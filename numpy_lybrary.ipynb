{
 "cells": [
  {
   "cell_type": "markdown",
   "id": "f3b617bb-26bd-4386-a2b6-c8366633bf6e",
   "metadata": {},
   "source": [
    "NUMPY LIBRRARY"
   ]
  },
  {
   "cell_type": "code",
   "execution_count": 3,
   "id": "e2532ff9-cd09-400f-86e8-a533c4a2feb2",
   "metadata": {},
   "outputs": [],
   "source": [
    "import numpy as np"
   ]
  },
  {
   "cell_type": "code",
   "execution_count": 5,
   "id": "14d4a551-c8e5-4016-9287-d32babd4bafc",
   "metadata": {},
   "outputs": [
    {
     "data": {
      "text/plain": [
       "array([1, 2, 3])"
      ]
     },
     "execution_count": 5,
     "metadata": {},
     "output_type": "execute_result"
    }
   ],
   "source": [
    "a=np.array([1,2,3])\n",
    "a"
   ]
  },
  {
   "cell_type": "code",
   "execution_count": 7,
   "id": "f169af5b-1207-49f1-aa87-e8dc44258ebc",
   "metadata": {},
   "outputs": [
    {
     "name": "stdout",
     "output_type": "stream",
     "text": [
      "28 1000\n"
     ]
    }
   ],
   "source": [
    "import time\n",
    "import sys\n",
    "\n",
    "b=range(1000)\n",
    "print(sys.getsizeof(5),len(b))"
   ]
  },
  {
   "cell_type": "code",
   "execution_count": 11,
   "id": "86d2d50b-3b1c-464d-90bf-a49ef0143342",
   "metadata": {},
   "outputs": [
    {
     "name": "stdout",
     "output_type": "stream",
     "text": [
      "4000\n"
     ]
    }
   ],
   "source": [
    "c=np.arange(1000)\n",
    "print(c.size*c.itemsize)"
   ]
  },
  {
   "cell_type": "code",
   "execution_count": 17,
   "id": "a48d2e7a-1099-4fe9-bc62-dd34e66d178b",
   "metadata": {},
   "outputs": [
    {
     "name": "stdout",
     "output_type": "stream",
     "text": [
      "python list took: 1737524004226.6528\n"
     ]
    }
   ],
   "source": [
    "size=100000\n",
    "l1=range(size)\n",
    "l2=range(size)\n",
    "a1=np.arange(size)\n",
    "a2=np.arange(size)\n",
    "\n",
    "start=time.time()\n",
    "\n",
    "result=[(x+y) for x,y in zip(l1,l2)]\n",
    "\n",
    "result=[(x+y) for x,y in zip(l1,l2)]\n",
    "#print(result)\n",
    "\n",
    "print('python list took:' ,(time.time())*1000)"
   ]
  },
  {
   "cell_type": "code",
   "execution_count": 25,
   "id": "d47270d2-fb71-43ff-840b-cf3be31cc886",
   "metadata": {},
   "outputs": [
    {
     "name": "stdout",
     "output_type": "stream",
     "text": [
      "numpy array took 1737524119362.2202\n"
     ]
    }
   ],
   "source": [
    "start=time.time()\n",
    "result=a1+a2\n",
    "print(\"numpy array took\",(time.time())*1000)"
   ]
  },
  {
   "cell_type": "code",
   "execution_count": 21,
   "id": "ac4c743c-fef6-4da0-99ca-d0aec4e3d3a3",
   "metadata": {},
   "outputs": [
    {
     "data": {
      "text/plain": [
       "array([[1, 2],\n",
       "       [3, 4],\n",
       "       [5, 6]])"
      ]
     },
     "execution_count": 21,
     "metadata": {},
     "output_type": "execute_result"
    }
   ],
   "source": [
    "a=np.array([[1,2],[3,4],[5,6]])\n",
    "a"
   ]
  },
  {
   "cell_type": "code",
   "execution_count": 22,
   "id": "341e3a2a-b34f-493b-abe9-c6a016cf2587",
   "metadata": {},
   "outputs": [
    {
     "data": {
      "text/plain": [
       "2"
      ]
     },
     "execution_count": 22,
     "metadata": {},
     "output_type": "execute_result"
    }
   ],
   "source": [
    "a.ndim"
   ]
  },
  {
   "cell_type": "code",
   "execution_count": 23,
   "id": "06678818-49ab-4a9f-8ba7-1165c33728cd",
   "metadata": {},
   "outputs": [
    {
     "data": {
      "text/plain": [
       "4"
      ]
     },
     "execution_count": 23,
     "metadata": {},
     "output_type": "execute_result"
    }
   ],
   "source": [
    "a.itemsize"
   ]
  },
  {
   "cell_type": "code",
   "execution_count": 29,
   "id": "d1cf16ee-7aa1-4285-8b64-b902c2389744",
   "metadata": {},
   "outputs": [
    {
     "data": {
      "text/plain": [
       "(3, 2)"
      ]
     },
     "execution_count": 29,
     "metadata": {},
     "output_type": "execute_result"
    }
   ],
   "source": [
    "a.shape"
   ]
  },
  {
   "cell_type": "code",
   "execution_count": 26,
   "id": "90a66846-820b-4cac-8317-2c945767bde4",
   "metadata": {},
   "outputs": [
    {
     "data": {
      "text/plain": [
       "array([[1, 2],\n",
       "       [3, 4],\n",
       "       [5, 6]])"
      ]
     },
     "execution_count": 26,
     "metadata": {},
     "output_type": "execute_result"
    }
   ],
   "source": [
    "a=np.array([[1,2],[3,4],[5,6]])\n",
    "a"
   ]
  },
  {
   "cell_type": "code",
   "execution_count": 27,
   "id": "ab030724-16c2-46d2-90e8-f569a7400cb9",
   "metadata": {},
   "outputs": [
    {
     "data": {
      "text/plain": [
       "4"
      ]
     },
     "execution_count": 27,
     "metadata": {},
     "output_type": "execute_result"
    }
   ],
   "source": [
    "a.itemsize"
   ]
  },
  {
   "cell_type": "code",
   "execution_count": 28,
   "id": "ad797f1d-d4c1-49be-b6c4-e658c163da5c",
   "metadata": {},
   "outputs": [
    {
     "data": {
      "text/plain": [
       "(3, 2)"
      ]
     },
     "execution_count": 28,
     "metadata": {},
     "output_type": "execute_result"
    }
   ],
   "source": [
    "a.shape"
   ]
  },
  {
   "cell_type": "code",
   "execution_count": 30,
   "id": "cb0bfe18-c167-4ab1-ba23-36fed8c5b7c8",
   "metadata": {},
   "outputs": [
    {
     "data": {
      "text/plain": [
       "array([[0., 0., 0., 0.],\n",
       "       [0., 0., 0., 0.],\n",
       "       [0., 0., 0., 0.]])"
      ]
     },
     "execution_count": 30,
     "metadata": {},
     "output_type": "execute_result"
    }
   ],
   "source": [
    "np.zeros((3,4)) #by default printing zeros"
   ]
  },
  {
   "cell_type": "code",
   "execution_count": 31,
   "id": "a9f0717c-4c80-45c2-9b3b-4b890fa0af47",
   "metadata": {},
   "outputs": [
    {
     "data": {
      "text/plain": [
       "array([[1., 1., 1., 1.],\n",
       "       [1., 1., 1., 1.],\n",
       "       [1., 1., 1., 1.]])"
      ]
     },
     "execution_count": 31,
     "metadata": {},
     "output_type": "execute_result"
    }
   ],
   "source": [
    "np.ones((3,4)) #by default ones"
   ]
  },
  {
   "cell_type": "code",
   "execution_count": 33,
   "id": "e713e4e9-505d-4717-a9d1-01dd84b8fc6d",
   "metadata": {},
   "outputs": [
    {
     "data": {
      "text/plain": [
       "array([0, 1, 2, 3, 4])"
      ]
     },
     "execution_count": 33,
     "metadata": {},
     "output_type": "execute_result"
    }
   ],
   "source": [
    "l=np.arange(5)\n",
    "l"
   ]
  },
  {
   "cell_type": "code",
   "execution_count": 36,
   "id": "7ec3cbe0-0a82-41c5-8ecb-8affa14a0292",
   "metadata": {},
   "outputs": [
    {
     "name": "stdout",
     "output_type": "stream",
     "text": [
      "concatination example\n",
      "['helloabc' 'hixyz']\n"
     ]
    }
   ],
   "source": [
    "print('concatination example')\n",
    "print(np.char.add(['hello','hi'],['abc','xyz']))"
   ]
  },
  {
   "cell_type": "code",
   "execution_count": 55,
   "id": "fa04fcb5-cddf-4583-82fd-5a500a34f264",
   "metadata": {},
   "outputs": [
    {
     "name": "stdout",
     "output_type": "stream",
     "text": [
      "hellohellohello\n",
      "-------hello--------\n",
      "Hello world\n",
      "How Are You Doing\n",
      "HELLO\n",
      "hello\n",
      "['hello' 'world']\n",
      "['are', 'you', 'coming', 'partuy']\n",
      "['are ypu comming', ' party']\n",
      "['nin' 'dmin' 'tor']\n",
      "['d:a:y' 'y-m-d']\n",
      "he was a good boy\n"
     ]
    }
   ],
   "source": [
    "print(np.char.multiply('hello',3)) # for duplication\n",
    "print(np.char.center('hello',20,fillchar='-')) #for to hylite the requrie word at center by design like _-*^%$#@\n",
    "print(np.char.capitalize('hello world')) #to uppercase first word of every word\n",
    "print(np.char.title('how are you doing')) #to uppercase\n",
    "print(np.char.upper('hello')) #to uppercase\n",
    "print(np.char.lower('HELLO')) #lowercse\n",
    "print(np.char.lower(['HELLO','World'])) #for two words\n",
    "print(np.char.split('are you coming partuy')) #to sapare every word\n",
    "print(np.char.splitlines('are ypu comming\\n party')) #to saparete where \\n \n",
    "print(np.char.strip(['nina','admin','ator'],'a')) # to cut the require letter or word from every word or line\n",
    "print(np.char.join([':','-'],['day','ymd'])) #it is very useful because to split every word with our letter or symbal\n",
    "\n",
    "print(np.char.replace('he is a good boy','is','was'))\n"
   ]
  },
  {
   "cell_type": "code",
   "execution_count": null,
   "id": "f88e1008-7789-41c8-af50-3965fb031028",
   "metadata": {},
   "outputs": [],
   "source": [
    "print(np.char.join([':','-'],['day','ymd'])) #it is very useful because to split every word with our letter or symbal\n",
    "\n",
    "print(np.char.replace('he is a good boy','is','was')) #for replace our requre word\n"
   ]
  },
  {
   "cell_type": "code",
   "execution_count": 22,
   "id": "cf84f405-1f11-4af7-9d68-8321342fd0f9",
   "metadata": {},
   "outputs": [
    {
     "data": {
      "text/plain": [
       "array([-0.46344691])"
      ]
     },
     "execution_count": 22,
     "metadata": {},
     "output_type": "execute_result"
    }
   ],
   "source": [
    "s=np.random.randn(1)\n",
    "s"
   ]
  },
  {
   "cell_type": "code",
   "execution_count": 25,
   "id": "8fdeb4f1-dbe3-48cf-a42f-7f930d721fd2",
   "metadata": {},
   "outputs": [
    {
     "data": {
      "text/plain": [
       "array([0.        , 0.02040816, 0.04081633, 0.06122449, 0.08163265,\n",
       "       0.10204082, 0.12244898, 0.14285714, 0.16326531, 0.18367347,\n",
       "       0.20408163, 0.2244898 , 0.24489796, 0.26530612, 0.28571429,\n",
       "       0.30612245, 0.32653061, 0.34693878, 0.36734694, 0.3877551 ,\n",
       "       0.40816327, 0.42857143, 0.44897959, 0.46938776, 0.48979592,\n",
       "       0.51020408, 0.53061224, 0.55102041, 0.57142857, 0.59183673,\n",
       "       0.6122449 , 0.63265306, 0.65306122, 0.67346939, 0.69387755,\n",
       "       0.71428571, 0.73469388, 0.75510204, 0.7755102 , 0.79591837,\n",
       "       0.81632653, 0.83673469, 0.85714286, 0.87755102, 0.89795918,\n",
       "       0.91836735, 0.93877551, 0.95918367, 0.97959184, 1.        ])"
      ]
     },
     "execution_count": 25,
     "metadata": {},
     "output_type": "execute_result"
    }
   ],
   "source": [
    "f=np.linspace(0,1) #it is same as random number but it will where start and where end\n",
    "f"
   ]
  },
  {
   "cell_type": "code",
   "execution_count": null,
   "id": "819c3f8d-8ff1-478c-8e18-daa64298a68c",
   "metadata": {},
   "outputs": [],
   "source": []
  },
  {
   "cell_type": "code",
   "execution_count": null,
   "id": "f6843a9c-4493-41f3-bc6c-2b8b98857cd3",
   "metadata": {},
   "outputs": [],
   "source": []
  },
  {
   "cell_type": "code",
   "execution_count": null,
   "id": "9ea9be8a-5e9a-4384-8f60-d4d35b743d3f",
   "metadata": {},
   "outputs": [],
   "source": []
  },
  {
   "cell_type": "code",
   "execution_count": null,
   "id": "1297714a-56ba-44d0-9993-8ada4ad4c295",
   "metadata": {},
   "outputs": [],
   "source": []
  }
 ],
 "metadata": {
  "kernelspec": {
   "display_name": "Python 3 (ipykernel)",
   "language": "python",
   "name": "python3"
  },
  "language_info": {
   "codemirror_mode": {
    "name": "ipython",
    "version": 3
   },
   "file_extension": ".py",
   "mimetype": "text/x-python",
   "name": "python",
   "nbconvert_exporter": "python",
   "pygments_lexer": "ipython3",
   "version": "3.12.7"
  }
 },
 "nbformat": 4,
 "nbformat_minor": 5
}
