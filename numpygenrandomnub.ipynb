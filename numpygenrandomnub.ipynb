{
 "cells": [
  {
   "cell_type": "code",
   "execution_count": 5,
   "id": "6af9d307-e696-43a2-831f-a6f2a7af68f1",
   "metadata": {},
   "outputs": [
    {
     "data": {
      "text/plain": [
       "array([10, 84,  5, 10, 96, 35, 53, 21,  2, 71])"
      ]
     },
     "execution_count": 5,
     "metadata": {},
     "output_type": "execute_result"
    }
   ],
   "source": [
    "#generate5 random integers b/w 1 to 100\n",
    "import numpy as np\n",
    "ran=np.random.randint(1,100,size=10)\n",
    "ran"
   ]
  },
  {
   "cell_type": "code",
   "execution_count": 8,
   "id": "d6f02b81-17bb-4c59-9beb-d39e2159aa33",
   "metadata": {},
   "outputs": [
    {
     "data": {
      "text/plain": [
       "array([ 1.38553305, -0.96128856, -1.46637577, -0.95685629,  0.44822595])"
      ]
     },
     "execution_count": 8,
     "metadata": {},
     "output_type": "execute_result"
    }
   ],
   "source": [
    "#genearte 5 random numbers of normal distribution\n",
    "rann=np.random.normal(size=5)\n",
    "rann\n"
   ]
  },
  {
   "cell_type": "code",
   "execution_count": 26,
   "id": "4ca39736-ab1b-4036-a54f-6c5344bf37bc",
   "metadata": {},
   "outputs": [
    {
     "data": {
      "text/plain": [
       "array([[[77, 33, 94],\n",
       "        [56, 38, 73],\n",
       "        [91, 40, 42]],\n",
       "\n",
       "       [[43, 17, 62],\n",
       "        [85, 51,  3],\n",
       "        [98, 41, 74]]])"
      ]
     },
     "execution_count": 26,
     "metadata": {},
     "output_type": "execute_result"
    }
   ],
   "source": [
    "#generate 2D array numbers randomaly\n",
    "ran2d=np.random.randint(1,10,size=(2,2)) # here 1 ,10 is the numbers generate b/w them only\n",
    "#we can als o genareate more 3d and 4d arrays also and numbers b/w 100,1000..\n",
    "#like \n",
    "ran3d=np.random.randint(1,100,size=(2,3,3))\n",
    "ran3d"
   ]
  },
  {
   "cell_type": "code",
   "execution_count": 33,
   "id": "5cb2bd7d-3965-49ac-8671-2e8e558b7506",
   "metadata": {},
   "outputs": [
    {
     "name": "stdout",
     "output_type": "stream",
     "text": [
      "[[ 0.64995934 -0.309957  ]\n",
      " [-0.1362732   1.32037587]]\n"
     ]
    },
    {
     "data": {
      "text/plain": [
       "array([[[ 0.97791054,  0.40009277, -0.39492576],\n",
       "        [ 0.33422274, -0.47030629,  0.03040982],\n",
       "        [ 0.86705393, -0.45917655,  0.74186136]],\n",
       "\n",
       "       [[ 2.06698468, -0.58071959, -0.66242279],\n",
       "        [-0.52920409, -0.72861391,  0.82857958],\n",
       "        [ 1.39078802, -0.3262768 ,  0.06933778]]])"
      ]
     },
     "execution_count": 33,
     "metadata": {},
     "output_type": "execute_result"
    }
   ],
   "source": [
    "#generate 2D array numbers randomaly by normal distribution\n",
    "ran2d=np.random.normal(size=(2,2)) #here there is no need for to give b/w like randint above\n",
    "print(ran2d)\n",
    "#we can als o genareate more 3d and 4d arrays also and numbers by normal distribution\n",
    "#like \n",
    "ran3d=np.random.normal(size=(2,3,3))\n",
    "ran3d"
   ]
  },
  {
   "cell_type": "code",
   "execution_count": 24,
   "id": "170b293c-f401-4078-b6c8-64983ab2882c",
   "metadata": {},
   "outputs": [
    {
     "name": "stdout",
     "output_type": "stream",
     "text": [
      "[[[ True  True  True]\n",
      "  [ True  True  True]\n",
      "  [ True  True  True]]\n",
      "\n",
      " [[ True  True  True]\n",
      "  [ True  True  True]\n",
      "  [ True  True  True]]]\n",
      "[-0.29775526  0.10267346 -0.35199326  0.24637576 -0.15537175  1.34559723\n",
      " -1.17958952 -0.62701042 -0.79102277 -0.76779305 -0.53851449  0.01374384\n",
      "  1.07556841 -1.00579994  0.14494021 -0.58071088  0.77127224 -0.6794442 ]\n"
     ]
    },
    {
     "data": {
      "text/plain": [
       "array([-0.29775526,  0.10267346, -0.35199326,  0.24637576, -0.15537175,\n",
       "        1.34559723, -1.17958952, -0.62701042, -0.79102277, -0.76779305,\n",
       "       -0.53851449,  0.01374384,  1.07556841, -1.00579994,  0.14494021,\n",
       "       -0.58071088,  0.77127224, -0.6794442 ])"
      ]
     },
     "execution_count": 24,
     "metadata": {},
     "output_type": "execute_result"
    }
   ],
   "source": [
    "#we use masklike before\n",
    "mask=ran3d<2 #printing slicing elements in 2d arry\n",
    "#firt it print true are false elements\n",
    "print(mask)\n",
    "#next we print true like below\n",
    "\n",
    "s=ran3d[mask]\n",
    "print(s)\n",
    "# another mw\\ethod of above code is below\n",
    "s=ran3d[ran3d<2]\n",
    "s\n",
    "#we can apply all 1d,2d,3d,4d......arrays"
   ]
  },
  {
   "cell_type": "code",
   "execution_count": 40,
   "id": "dc61ffe6-81f4-43f5-9112-a391ef4d39a0",
   "metadata": {},
   "outputs": [
    {
     "name": "stdout",
     "output_type": "stream",
     "text": [
      "multiflication of two matix is: [[[ 0.97791054  2.00046387 -1.57970305]\n",
      "  [ 2.6737819  -0.94061259  0.24327856]\n",
      "  [ 7.80348536 -0.45917655  2.96744544]]\n",
      "\n",
      " [[ 2.06698468 -2.90359796 -2.64969117]\n",
      "  [-4.23363269 -1.45722782  6.62863665]\n",
      "  [12.51709214 -0.3262768   0.27735114]]]\n"
     ]
    }
   ],
   "source": [
    "#multiplying arrays in numpy\n",
    "b=np.random.randint(1,10,size=(3,3))\n",
    "a=ran3d*b\n",
    "print(\"multiflication of two matix is:\",a)"
   ]
  },
  {
   "cell_type": "code",
   "execution_count": 88,
   "id": "1a21fc63-bab6-47e1-a4a7-0b996a7ad960",
   "metadata": {},
   "outputs": [
    {
     "data": {
      "text/plain": [
       "array([1, 2, 3, 4, 5, 6, 7, 8, 9, 0])"
      ]
     },
     "execution_count": 88,
     "metadata": {},
     "output_type": "execute_result"
    }
   ],
   "source": [
    "#reshaping the matrixes\n",
    "arr=np.arange(1,5)\n",
    "# we can respace 1d arrray into 2d array\n",
    "r=arr.reshape((2,2))\n",
    "r\n",
    "arr=np.arange(1,10)\n",
    "#we reshape 1d into 3x3 matrix\n",
    "r=arr.reshape(3,3)\n",
    "r\n",
    "#resize\n",
    "a=np.arange(1,10)\n",
    "a.resize(2,5)\n",
    "a\n",
    "#ravel  this is covert any D dimentional data into one dimentional (1D)\n",
    "r=arr.ravel\n",
    "r\n",
    "#flattensimilllar to ravel but not effect the original data it is only copy\n",
    "flat_copy=a.flatten()\n",
    "flat_copy\n"
   ]
  },
  {
   "cell_type": "code",
   "execution_count": 93,
   "id": "83cf03df-f145-4f44-87c5-76da7bccb7fb",
   "metadata": {},
   "outputs": [
    {
     "name": "stdout",
     "output_type": "stream",
     "text": [
      "[1 2 2 3]\n",
      "[1 2 2 3]\n"
     ]
    },
    {
     "data": {
      "text/plain": [
       "2"
      ]
     },
     "execution_count": 93,
     "metadata": {},
     "output_type": "execute_result"
    }
   ],
   "source": [
    "#difference b/w ravel and flatten\n",
    "a=np.array([[1,2],[2,3]])\n",
    "r=a.ravel()\n",
    "print(r)\n",
    "f=a.flatten()\n",
    "print(f)\n",
    "r[1]\n",
    "f[1]\n",
    "a[1]\n"
   ]
  },
  {
   "cell_type": "code",
   "execution_count": 55,
   "id": "7d153ac1-9f21-44b6-be7d-c89c17523da0",
   "metadata": {},
   "outputs": [
    {
     "data": {
      "text/plain": [
       "1"
      ]
     },
     "execution_count": 55,
     "metadata": {},
     "output_type": "execute_result"
    }
   ],
   "source": [
    "#aggrigate funtions\n",
    "np.sum(arr)\n",
    "np.max(arr)\n",
    "np.min(arr)"
   ]
  },
  {
   "cell_type": "code",
   "execution_count": 58,
   "id": "999c873e-83b6-4559-8ba5-5cb6748ccfd7",
   "metadata": {},
   "outputs": [
    {
     "data": {
      "text/plain": [
       "array([ 7,  8,  9, 10, 11, 12, 13, 14, 15])"
      ]
     },
     "execution_count": 58,
     "metadata": {},
     "output_type": "execute_result"
    }
   ],
   "source": [
    "#universal funtions\n",
    "np.multiply(arr,2)\n",
    "np.add(arr,6)"
   ]
  },
  {
   "cell_type": "code",
   "execution_count": 66,
   "id": "0b3a8936-adf1-419b-a59d-c2861b3d2a8e",
   "metadata": {},
   "outputs": [
    {
     "name": "stdout",
     "output_type": "stream",
     "text": [
      "[0.00000000e+00 7.07106781e-01 6.65740120e-01 1.22464680e-16]\n",
      "Cosine! [ 1.          0.70710678 -0.74618369 -1.        ]\n"
     ]
    }
   ],
   "source": [
    "#trigrometric funtion\n",
    "angle=np.array([0,np.pi/4,np.pi/2.3+np.pi/3,np.pi])\n",
    "#sine\n",
    "\n",
    "res_sin=np.sin(angle)\n",
    "print(res_sin)\n",
    "#cose\n",
    "res_cos=np.cos(angle)\n",
    "print(\"Cosine!\",res_cos)"
   ]
  },
  {
   "cell_type": "code",
   "execution_count": 70,
   "id": "dd2551d5-9df6-492a-bd10-25161d737151",
   "metadata": {},
   "outputs": [
    {
     "name": "stdout",
     "output_type": "stream",
     "text": [
      "[ 2.71828183  7.3890561  20.08553692 54.59815003]\n",
      "[0.         0.69314718 1.09861229 1.38629436]\n"
     ]
    }
   ],
   "source": [
    "#exponentials\n",
    "a=np.array([1,2,3,4])\n",
    "# natural exponential\n",
    "e=np.exp(a)\n",
    "print(e)\n",
    "#natural log\n",
    "l=np.log(a)\n",
    "print(l)\n"
   ]
  },
  {
   "cell_type": "code",
   "execution_count": 75,
   "id": "08ba4a88-0af0-4353-87d8-4d258d53ced1",
   "metadata": {},
   "outputs": [
    {
     "data": {
      "text/plain": [
       "1.118033988749895"
      ]
     },
     "execution_count": 75,
     "metadata": {},
     "output_type": "execute_result"
    }
   ],
   "source": [
    "#statical formulas\n",
    "np.mean(a)\n",
    "np.std(a)\n"
   ]
  },
  {
   "cell_type": "code",
   "execution_count": 80,
   "id": "5d1a58c8-c590-49c5-9db5-c633b654db82",
   "metadata": {},
   "outputs": [
    {
     "data": {
      "text/plain": [
       "array([ True,  True,  True,  True])"
      ]
     },
     "execution_count": 80,
     "metadata": {},
     "output_type": "execute_result"
    }
   ],
   "source": [
    "#comparitons\n",
    "np.greater(a,angle)\n",
    "\n",
    "np.less(a,angle)\n",
    "np.less_equal(a,angle)\n",
    "np.greater_equal(a,angle)"
   ]
  },
  {
   "cell_type": "code",
   "execution_count": 99,
   "id": "8c69a551-d68d-4d2b-bb42-c1980f6c2877",
   "metadata": {},
   "outputs": [
    {
     "name": "stdout",
     "output_type": "stream",
     "text": [
      "(2, 3)\n",
      "[[1 2 3]\n",
      " [2 3 4]]\n"
     ]
    },
    {
     "data": {
      "text/plain": [
       "array([[2],\n",
       "       [3]])"
      ]
     },
     "execution_count": 99,
     "metadata": {},
     "output_type": "execute_result"
    }
   ],
   "source": [
    "#creating array with a singleton dimenstion\n",
    "c=np.array([[1,2,3],[2,3,4]])\n",
    "print(c.shape)\n",
    "#squeeze to romeve singleton dimentions\n",
    "squee=c.squeeze()\n",
    "print(squee)\n",
    "\n",
    "#add on axes at index(expand)\n",
    "expand=np.expand_dims(squee.shape,axis=1) # we can increase axies base on dimentions in array\n",
    "expand\n"
   ]
  },
  {
   "cell_type": "code",
   "execution_count": 108,
   "id": "bc7a716f-7a63-4e16-8b12-7dda87d30030",
   "metadata": {},
   "outputs": [
    {
     "data": {
      "text/plain": [
       "[array([[1, 2, 3]]), array([[2, 3, 4]])]"
      ]
     },
     "execution_count": 108,
     "metadata": {},
     "output_type": "execute_result"
    }
   ],
   "source": [
    "#spliting\n",
    "n=np.arange(9)\n",
    "x=np.split(n,3)\n",
    "x\n",
    "#array_split\n",
    "xs=np.array_split(n,3)\n",
    "xs\n",
    "#np.hsplit and np.vsplit\n",
    "n=np.array([[1,2,3],[2,3,4]])\n",
    "xh=np.hsplit(n,3)\n",
    "xh\n",
    "xv=np.vsplit(n,2)\n",
    "xv\n"
   ]
  },
  {
   "cell_type": "code",
   "execution_count": 109,
   "id": "f2a6b3d2-8444-432b-8b43-430d577c67c1",
   "metadata": {},
   "outputs": [
    {
     "data": {
      "text/plain": [
       "array([1, 2, 3, 4, 5, 6])"
      ]
     },
     "execution_count": 109,
     "metadata": {},
     "output_type": "execute_result"
    }
   ],
   "source": [
    "#joining\n",
    "#concatenate\n",
    "a=np.array([1,2,3])\n",
    "b=np.array([4,5,6])\n",
    "np.concatenate((a,b))"
   ]
  },
  {
   "cell_type": "code",
   "execution_count": 113,
   "id": "73acaa3f-796a-4ef8-a468-d62062ca4c59",
   "metadata": {},
   "outputs": [
    {
     "data": {
      "text/plain": [
       "array([[1, 2, 3],\n",
       "       [4, 5, 6]])"
      ]
     },
     "execution_count": 113,
     "metadata": {},
     "output_type": "execute_result"
    }
   ],
   "source": [
    "#horizontal stack\n",
    "h=np.hstack((a,b))\n",
    "h\n",
    "#vertical stack\n",
    "s\n",
    "v=np.vstack((a,b))\n",
    "v"
   ]
  },
  {
   "cell_type": "code",
   "execution_count": 114,
   "id": "8089c297-744a-4dd8-996d-49b027dec322",
   "metadata": {},
   "outputs": [
    {
     "data": {
      "text/plain": [
       "array([1, 2, 3, 7, 7])"
      ]
     },
     "execution_count": 114,
     "metadata": {},
     "output_type": "execute_result"
    }
   ],
   "source": [
    "#adding and removing elements\n",
    "np.append(a,[7,7])"
   ]
  },
  {
   "cell_type": "code",
   "execution_count": 116,
   "id": "a1b22529-ed6f-4fa9-8fb4-12c62d23cf06",
   "metadata": {},
   "outputs": [
    {
     "data": {
      "text/plain": [
       "array([1, 1, 2, 2, 3])"
      ]
     },
     "execution_count": 116,
     "metadata": {},
     "output_type": "execute_result"
    }
   ],
   "source": [
    "#insert\n",
    "np.insert(a,1,[1,2])  #here is 1 is the index where insert and [1,2] are values to insert"
   ]
  },
  {
   "cell_type": "code",
   "execution_count": 119,
   "id": "87b39000-5bb7-49db-aa88-d979eb48c38c",
   "metadata": {},
   "outputs": [
    {
     "data": {
      "text/plain": [
       "array([2])"
      ]
     },
     "execution_count": 119,
     "metadata": {},
     "output_type": "execute_result"
    }
   ],
   "source": [
    "# deleting single value\n",
    "np.delete(a,2) # here 2 is the index where to delete the value in array 2\n",
    "#deleting multiple values\n",
    "np.delete(a,[0,2]) # same as above here deleting values b/w index 0 to 2"
   ]
  },
  {
   "cell_type": "code",
   "execution_count": 120,
   "id": "09c10241-e187-4c17-b63d-738e84dec94a",
   "metadata": {},
   "outputs": [
    {
     "data": {
      "text/plain": [
       "array([[1, 2, 3],\n",
       "       [4, 5, 6]])"
      ]
     },
     "execution_count": 120,
     "metadata": {},
     "output_type": "execute_result"
    }
   ],
   "source": [
    "#creating 2d array\n",
    "d2=np.array([[1,2,3],[2,3,4],[4,5,6]])\n",
    "#delete the second row\n",
    "np.delete(d2,1,axis=0)\n",
    "\n"
   ]
  },
  {
   "cell_type": "code",
   "execution_count": null,
   "id": "a0b8b77f-8366-4270-b351-6086a1e52653",
   "metadata": {},
   "outputs": [],
   "source": []
  }
 ],
 "metadata": {
  "kernelspec": {
   "display_name": "Python 3 (ipykernel)",
   "language": "python",
   "name": "python3"
  },
  "language_info": {
   "codemirror_mode": {
    "name": "ipython",
    "version": 3
   },
   "file_extension": ".py",
   "mimetype": "text/x-python",
   "name": "python",
   "nbconvert_exporter": "python",
   "pygments_lexer": "ipython3",
   "version": "3.12.7"
  }
 },
 "nbformat": 4,
 "nbformat_minor": 5
}
