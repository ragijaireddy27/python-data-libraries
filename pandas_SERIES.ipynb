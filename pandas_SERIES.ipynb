{
 "cells": [
  {
   "cell_type": "code",
   "execution_count": 2,
   "id": "bbe63550-004c-4311-a29a-ce390bfcb4bc",
   "metadata": {},
   "outputs": [],
   "source": [
    "import pandas as pd\n",
    "from matplotlib import pylab"
   ]
  },
  {
   "cell_type": "code",
   "execution_count": 8,
   "id": "e98f9d29-a6e3-4e4b-bd83-eb6a02606f28",
   "metadata": {},
   "outputs": [
    {
     "name": "stdout",
     "output_type": "stream",
     "text": [
      "2.1.4\n",
      "1.26.4\n"
     ]
    }
   ],
   "source": [
    "print(pd. __version__)\n",
    "print(pylab. __version__)"
   ]
  },
  {
   "cell_type": "markdown",
   "id": "8ae0b5fb-abeb-41f4-92cb-f48988a6f7a5",
   "metadata": {},
   "source": [
    "#series create ,manipulicate,querry,delete"
   ]
  },
  {
   "cell_type": "code",
   "execution_count": 22,
   "id": "998ef7ac-45f0-4de9-9335-c4629e74264a",
   "metadata": {},
   "outputs": [
    {
     "data": {
      "text/plain": [
       "0    1\n",
       "1    3\n",
       "2    4\n",
       "3    5\n",
       "4    6\n",
       "5    7\n",
       "dtype: int64"
      ]
     },
     "execution_count": 22,
     "metadata": {},
     "output_type": "execute_result"
    }
   ],
   "source": [
    "#create a series from a list\n",
    "arr=[1,3,4,5,6,7]\n",
    "s1=pd.Series(arr)\n",
    "s1"
   ]
  },
  {
   "cell_type": "code",
   "execution_count": 6,
   "id": "e078b10e-93bf-4456-a97c-301383d3d31b",
   "metadata": {},
   "outputs": [
    {
     "data": {
      "text/plain": [
       "1    -0.141285\n",
       "2     1.856845\n",
       "3    -0.329861\n",
       "4    -0.264362\n",
       "5     0.174077\n",
       "6     0.902134\n",
       "7     0.778907\n",
       "8    -0.669696\n",
       "9     1.138998\n",
       "10    0.086305\n",
       "dtype: float64"
      ]
     },
     "execution_count": 6,
     "metadata": {},
     "output_type": "execute_result"
    }
   ],
   "source": [
    "import numpy as np"
   ]
  },
  {
   "cell_type": "code",
   "execution_count": null,
   "id": "ca6256f7-39b4-436a-aa88-c00919120fbe",
   "metadata": {},
   "outputs": [],
   "source": []
  },
  {
   "cell_type": "code",
   "execution_count": 31,
   "id": "fc34face-d8fa-48e9-bfcb-5baaac4beb2c",
   "metadata": {},
   "outputs": [
    {
     "data": {
      "text/plain": [
       "a    1\n",
       "b    3\n",
       "c    4\n",
       "d    5\n",
       "e    6\n",
       "f    7\n",
       "dtype: int64"
      ]
     },
     "execution_count": 31,
     "metadata": {},
     "output_type": "execute_result"
    }
   ],
   "source": [
    "#MODIFY INDEX \n",
    "s1.index=['a','b','c','d','e','f']\n",
    "s1"
   ]
  },
  {
   "cell_type": "code",
   "execution_count": 29,
   "id": "0b7fe7a6-e83e-4ba5-816f-f402a242bdf5",
   "metadata": {},
   "outputs": [
    {
     "name": "stdout",
     "output_type": "stream",
     "text": [
      "d    5\n",
      "e    6\n",
      "f    7\n",
      "dtype: int64\n",
      "a    1\n",
      "b    3\n",
      "c    4\n",
      "d    5\n",
      "dtype: int64\n"
     ]
    }
   ],
   "source": [
    "#slicing\n",
    "print(s1[3:])\n",
    "print(s1[:-2])"
   ]
  },
  {
   "cell_type": "code",
   "execution_count": 37,
   "id": "9c59fb3c-32d1-44b2-b4e9-902fd6aa18c0",
   "metadata": {},
   "outputs": [
    {
     "data": {
      "text/plain": [
       "a    1\n",
       "b    3\n",
       "c    4\n",
       "d    5\n",
       "e    6\n",
       "dtype: int64"
      ]
     },
     "execution_count": 37,
     "metadata": {},
     "output_type": "execute_result"
    }
   ],
   "source": [
    "#droping require item\n",
    "s1.drop('f')  #syntax of drop is s1.drop(index)"
   ]
  },
  {
   "cell_type": "code",
   "execution_count": 36,
   "id": "c5f58a63-e528-454c-b97e-d9a6f7ca797b",
   "metadata": {},
   "outputs": [
    {
     "data": {
      "text/plain": [
       "1    1\n",
       "2    3\n",
       "3    4\n",
       "4    5\n",
       "5    6\n",
       "6    7\n",
       "dtype: int64"
      ]
     },
     "execution_count": 36,
     "metadata": {},
     "output_type": "execute_result"
    }
   ],
   "source": [
    "order=[1,2,3,4,5,6]\n",
    "s2=pd.Series(arr,index=order)\n",
    "s2"
   ]
  },
  {
   "cell_type": "code",
   "execution_count": 16,
   "id": "fc354d45-ae39-4dbd-9154-668bccd65919",
   "metadata": {},
   "outputs": [
    {
     "data": {
      "text/plain": [
       "a    1\n",
       "b    3\n",
       "c    4\n",
       "d    5\n",
       "e    6\n",
       "f    7\n",
       "dtype: int64"
      ]
     },
     "execution_count": 16,
     "metadata": {},
     "output_type": "execute_result"
    }
   ],
   "source": [
    "order=['a','b','c','d','e','f']\n",
    "s2=pd.Series(arr,index=order)\n",
    "s2"
   ]
  },
  {
   "cell_type": "code",
   "execution_count": 17,
   "id": "d2f9b561-c0f8-4239-b9cb-a06eb9c3de2f",
   "metadata": {},
   "outputs": [],
   "source": [
    "#create series from dictionary"
   ]
  },
  {
   "cell_type": "code",
   "execution_count": 19,
   "id": "16b875d0-79b3-4542-913f-71d0dbb35261",
   "metadata": {},
   "outputs": [
    {
     "data": {
      "text/plain": [
       "a    1\n",
       "b    2\n",
       "c    3\n",
       "d    4\n",
       "e    5\n",
       "dtype: int64"
      ]
     },
     "execution_count": 19,
     "metadata": {},
     "output_type": "execute_result"
    }
   ],
   "source": [
    "d={'a':1,'b':2,'c':3,'d':4,'e':5}\n",
    "s3=pd.Series(d)\n",
    "s3"
   ]
  },
  {
   "cell_type": "code",
   "execution_count": 24,
   "id": "791c62f1-5597-4e0d-bc7d-63a5f934679d",
   "metadata": {},
   "outputs": [
    {
     "name": "stdout",
     "output_type": "stream",
     "text": [
      "0     1\n",
      "1    12\n",
      "2    12\n",
      "3    12\n",
      "4    12\n",
      "5    12\n",
      "dtype: int64\n",
      "0     0\n",
      "1    27\n",
      "2    32\n",
      "3    35\n",
      "4    36\n",
      "5    35\n",
      "dtype: int64\n",
      "0         inf\n",
      "1    0.333333\n",
      "2    0.500000\n",
      "3    0.714286\n",
      "4    1.000000\n",
      "5    1.400000\n",
      "dtype: float64\n",
      "0    1\n",
      "1   -6\n",
      "2   -4\n",
      "3   -2\n",
      "4    0\n",
      "5    2\n",
      "dtype: int64\n"
     ]
    }
   ],
   "source": [
    "#operation of series\n",
    "a=[1,2,3,4,5,6]\n",
    "s=pd.Series(a)\n",
    "s4=s1.copy()\n",
    "s5=[0,9,8,7,6,5]\n",
    "print(s4.add(s5))#mustbe there is must be equal the data types\n",
    "print(s4.mul(s5))\n",
    "print(s4.div(s5))\n",
    "print(s4.sub(s5))\n",
    "#print(s4.median(s5))\n"
   ]
  },
  {
   "cell_type": "code",
   "execution_count": null,
   "id": "e8ca0406-d287-4e7e-9729-a9cb8a22f38a",
   "metadata": {},
   "outputs": [],
   "source": []
  },
  {
   "cell_type": "code",
   "execution_count": 10,
   "id": "eeafd3ac-b88d-442d-abb8-c73341d4a332",
   "metadata": {},
   "outputs": [
    {
     "data": {
      "text/plain": [
       "1    -0.070895\n",
       "2    -0.983170\n",
       "3     1.339524\n",
       "4     1.161815\n",
       "5     0.293547\n",
       "6     0.997242\n",
       "7    -1.249420\n",
       "8    -0.802208\n",
       "9     0.573135\n",
       "10   -1.099759\n",
       "dtype: float64"
      ]
     },
     "execution_count": 10,
     "metadata": {},
     "output_type": "execute_result"
    }
   ],
   "source": [
    "\n",
    "s=np.random.randn(10)\n",
    "inx=(1,2,3,4,5,6,7,8,9,10)\n",
    "s1=pd.Series(s,index=inx)\n",
    "s2=s1.copy()\n"
   ]
  },
  {
   "cell_type": "code",
   "execution_count": 18,
   "id": "4eedc163-8cd8-4e06-a6f7-40c325badf9b",
   "metadata": {},
   "outputs": [
    {
     "data": {
      "text/plain": [
       "0.11132640684741238"
      ]
     },
     "execution_count": 18,
     "metadata": {},
     "output_type": "execute_result"
    }
   ],
   "source": [
    "s2.median()"
   ]
  },
  {
   "cell_type": "code",
   "execution_count": 26,
   "id": "341c27ba-b9fc-44cc-af2d-b9ee3d775aa3",
   "metadata": {},
   "outputs": [
    {
     "data": {
      "text/plain": [
       "1    -0.141789\n",
       "2    -1.966341\n",
       "3     2.679049\n",
       "4     2.323630\n",
       "5     0.587095\n",
       "6     1.994485\n",
       "7    -2.498839\n",
       "8    -1.604415\n",
       "9     1.146271\n",
       "10   -2.199518\n",
       "dtype: float64"
      ]
     },
     "execution_count": 26,
     "metadata": {},
     "output_type": "execute_result"
    }
   ],
   "source": [
    "s3=s2.add(s2)\n",
    "s3"
   ]
  },
  {
   "cell_type": "code",
   "execution_count": 29,
   "id": "3a503493-aa9a-48ee-8ed6-c30cbac8f6fe",
   "metadata": {},
   "outputs": [
    {
     "data": {
      "text/plain": [
       "0         NaN\n",
       "1   -3.141789\n",
       "2   -5.966341\n",
       "3   -2.320951\n",
       "4   -3.676370\n",
       "5   -6.412905\n",
       "6         NaN\n",
       "7         NaN\n",
       "8         NaN\n",
       "9         NaN\n",
       "dtype: float64"
      ]
     },
     "execution_count": 29,
     "metadata": {},
     "output_type": "execute_result"
    }
   ],
   "source": [
    "s4=s3.sub(s1)\n",
    "s4.drop(10)"
   ]
  },
  {
   "cell_type": "code",
   "execution_count": 4,
   "id": "66a00b33-33f0-4d5f-9f81-2942dfb5d9e1",
   "metadata": {},
   "outputs": [],
   "source": [
    "dic={'a':[1,2,3],\n",
    "     'b':[2,3,4],\n",
    "     'c':[3,4,5],\n",
    "     'd':[4,5,6],\n",
    "     'e':[5,6,7]}"
   ]
  },
  {
   "cell_type": "code",
   "execution_count": 7,
   "id": "9464ae70-1351-4eec-99b5-baf1772000f0",
   "metadata": {},
   "outputs": [
    {
     "data": {
      "text/plain": [
       "a    [1, 2, 3]\n",
       "b    [2, 3, 4]\n",
       "c    [3, 4, 5]\n",
       "d    [4, 5, 6]\n",
       "e    [5, 6, 7]\n",
       "dtype: object"
      ]
     },
     "execution_count": 7,
     "metadata": {},
     "output_type": "execute_result"
    }
   ],
   "source": [
    "s=pd.Series(dic)\n",
    "s"
   ]
  },
  {
   "cell_type": "code",
   "execution_count": 14,
   "id": "443ff4da-cc5c-4f2b-92ba-b6a95547ebdb",
   "metadata": {},
   "outputs": [
    {
     "data": {
      "text/plain": [
       "a    True\n",
       "b    True\n",
       "c    True\n",
       "d    True\n",
       "e    True\n",
       "dtype: bool"
      ]
     },
     "execution_count": 14,
     "metadata": {},
     "output_type": "execute_result"
    }
   ],
   "source": [
    "s1=s.sort_values()\n",
    "s1\n",
    "s1.notnull()"
   ]
  },
  {
   "cell_type": "code",
   "execution_count": 21,
   "id": "83320cc8-93b0-4817-973a-8da3b80abd78",
   "metadata": {},
   "outputs": [
    {
     "data": {
      "text/plain": [
       "2"
      ]
     },
     "execution_count": 21,
     "metadata": {},
     "output_type": "execute_result"
    }
   ],
   "source": [
    "#to for form multiple funtion at atime we use agregate funtion\n",
    "s=pd.Series([1,2,3],index=['a','b','c'])\n",
    "s\n",
    "agg=s.aggregate(['sum','mean','std'])\n",
    "agg\n",
    "#if we loc for index \n",
    "s.loc['a'] # loc is location\n",
    "#and we use iloc index of the ibex\n",
    "s.iloc[1] # iloc is intigerlocation"
   ]
  },
  {
   "cell_type": "code",
   "execution_count": null,
   "id": "7720cfd5-cf92-4f48-b875-557eadb08594",
   "metadata": {},
   "outputs": [],
   "source": []
  },
  {
   "cell_type": "code",
   "execution_count": null,
   "id": "d10815f5-78cc-478b-8896-cf48f84a6422",
   "metadata": {},
   "outputs": [],
   "source": []
  },
  {
   "cell_type": "code",
   "execution_count": null,
   "id": "85c20e65-57e4-42a4-923f-665d8c0062d8",
   "metadata": {},
   "outputs": [],
   "source": []
  },
  {
   "cell_type": "code",
   "execution_count": null,
   "id": "4b9e7698-4aba-4c2e-a454-3696516ed930",
   "metadata": {},
   "outputs": [],
   "source": []
  },
  {
   "cell_type": "code",
   "execution_count": null,
   "id": "62fa6ced-d0b1-4c27-9558-17d04cc80e3b",
   "metadata": {},
   "outputs": [],
   "source": []
  },
  {
   "cell_type": "code",
   "execution_count": null,
   "id": "19f91071-46cf-44af-aca8-f9df5a7f953d",
   "metadata": {},
   "outputs": [],
   "source": []
  },
  {
   "cell_type": "code",
   "execution_count": null,
   "id": "cf4dc663-994b-4ff9-a0d0-3a04ee3284ba",
   "metadata": {},
   "outputs": [],
   "source": []
  },
  {
   "cell_type": "code",
   "execution_count": 64,
   "id": "f27fe2a9-71ea-41cb-acd7-5b475e320034",
   "metadata": {},
   "outputs": [
    {
     "data": {
      "text/html": [
       "<div>\n",
       "<style scoped>\n",
       "    .dataframe tbody tr th:only-of-type {\n",
       "        vertical-align: middle;\n",
       "    }\n",
       "\n",
       "    .dataframe tbody tr th {\n",
       "        vertical-align: top;\n",
       "    }\n",
       "\n",
       "    .dataframe thead th {\n",
       "        text-align: right;\n",
       "    }\n",
       "</style>\n",
       "<table border=\"1\" class=\"dataframe\">\n",
       "  <thead>\n",
       "    <tr style=\"text-align: right;\">\n",
       "      <th></th>\n",
       "      <th>1</th>\n",
       "      <th>2</th>\n",
       "      <th>3</th>\n",
       "      <th>4</th>\n",
       "      <th>5</th>\n",
       "      <th>6</th>\n",
       "      <th>7</th>\n",
       "      <th>8</th>\n",
       "      <th>9</th>\n",
       "      <th>10</th>\n",
       "    </tr>\n",
       "  </thead>\n",
       "  <tbody>\n",
       "    <tr>\n",
       "      <th>2024-05-19 19:27:38.159533</th>\n",
       "      <td>0.652234</td>\n",
       "      <td>-0.085960</td>\n",
       "      <td>-0.534127</td>\n",
       "      <td>0.577694</td>\n",
       "      <td>0.464609</td>\n",
       "      <td>-1.090040</td>\n",
       "      <td>0.623026</td>\n",
       "      <td>-0.961550</td>\n",
       "      <td>0.530388</td>\n",
       "      <td>0.810917</td>\n",
       "    </tr>\n",
       "    <tr>\n",
       "      <th>2024-05-20 19:27:38.159533</th>\n",
       "      <td>-0.231383</td>\n",
       "      <td>-1.818856</td>\n",
       "      <td>-0.199850</td>\n",
       "      <td>-1.254689</td>\n",
       "      <td>-0.667657</td>\n",
       "      <td>-1.112941</td>\n",
       "      <td>-0.670090</td>\n",
       "      <td>-1.112732</td>\n",
       "      <td>0.788376</td>\n",
       "      <td>0.394177</td>\n",
       "    </tr>\n",
       "    <tr>\n",
       "      <th>2024-05-21 19:27:38.159533</th>\n",
       "      <td>-1.017685</td>\n",
       "      <td>-0.172869</td>\n",
       "      <td>-1.219302</td>\n",
       "      <td>1.137245</td>\n",
       "      <td>-1.577333</td>\n",
       "      <td>0.169428</td>\n",
       "      <td>0.986715</td>\n",
       "      <td>0.990465</td>\n",
       "      <td>0.065674</td>\n",
       "      <td>-0.308867</td>\n",
       "    </tr>\n",
       "    <tr>\n",
       "      <th>2024-05-22 19:27:38.159533</th>\n",
       "      <td>-1.733398</td>\n",
       "      <td>0.559578</td>\n",
       "      <td>-1.462407</td>\n",
       "      <td>0.196274</td>\n",
       "      <td>-0.557904</td>\n",
       "      <td>0.562832</td>\n",
       "      <td>-0.336896</td>\n",
       "      <td>-0.169315</td>\n",
       "      <td>-0.300361</td>\n",
       "      <td>-0.741215</td>\n",
       "    </tr>\n",
       "    <tr>\n",
       "      <th>2024-05-23 19:27:38.159533</th>\n",
       "      <td>-0.927460</td>\n",
       "      <td>-0.689421</td>\n",
       "      <td>-2.152585</td>\n",
       "      <td>-0.737419</td>\n",
       "      <td>0.247054</td>\n",
       "      <td>2.238998</td>\n",
       "      <td>0.536161</td>\n",
       "      <td>-1.544880</td>\n",
       "      <td>0.287498</td>\n",
       "      <td>0.579483</td>\n",
       "    </tr>\n",
       "    <tr>\n",
       "      <th>2024-05-24 19:27:38.159533</th>\n",
       "      <td>-0.957403</td>\n",
       "      <td>0.969390</td>\n",
       "      <td>-0.990500</td>\n",
       "      <td>-1.300363</td>\n",
       "      <td>0.578862</td>\n",
       "      <td>1.144584</td>\n",
       "      <td>-1.259898</td>\n",
       "      <td>1.042649</td>\n",
       "      <td>0.434956</td>\n",
       "      <td>-1.454113</td>\n",
       "    </tr>\n",
       "    <tr>\n",
       "      <th>2024-05-25 19:27:38.159533</th>\n",
       "      <td>0.670924</td>\n",
       "      <td>-0.418547</td>\n",
       "      <td>0.163076</td>\n",
       "      <td>1.080577</td>\n",
       "      <td>-0.641624</td>\n",
       "      <td>-0.147601</td>\n",
       "      <td>0.833514</td>\n",
       "      <td>-0.063880</td>\n",
       "      <td>-0.043259</td>\n",
       "      <td>-1.119934</td>\n",
       "    </tr>\n",
       "    <tr>\n",
       "      <th>2024-05-26 19:27:38.159533</th>\n",
       "      <td>0.064876</td>\n",
       "      <td>0.028737</td>\n",
       "      <td>1.261437</td>\n",
       "      <td>0.323473</td>\n",
       "      <td>-0.191871</td>\n",
       "      <td>0.863455</td>\n",
       "      <td>-0.325506</td>\n",
       "      <td>-0.884237</td>\n",
       "      <td>0.691184</td>\n",
       "      <td>-0.943661</td>\n",
       "    </tr>\n",
       "    <tr>\n",
       "      <th>2024-05-27 19:27:38.159533</th>\n",
       "      <td>0.237429</td>\n",
       "      <td>-0.674015</td>\n",
       "      <td>-0.172790</td>\n",
       "      <td>0.235774</td>\n",
       "      <td>1.951272</td>\n",
       "      <td>0.175825</td>\n",
       "      <td>-0.603151</td>\n",
       "      <td>-1.557423</td>\n",
       "      <td>-1.342769</td>\n",
       "      <td>1.070377</td>\n",
       "    </tr>\n",
       "    <tr>\n",
       "      <th>2024-05-28 19:27:38.159533</th>\n",
       "      <td>-1.310207</td>\n",
       "      <td>1.390110</td>\n",
       "      <td>1.217704</td>\n",
       "      <td>1.162156</td>\n",
       "      <td>-0.343613</td>\n",
       "      <td>-0.299038</td>\n",
       "      <td>-1.341943</td>\n",
       "      <td>0.461880</td>\n",
       "      <td>-1.292135</td>\n",
       "      <td>0.238347</td>\n",
       "    </tr>\n",
       "  </tbody>\n",
       "</table>\n",
       "</div>"
      ],
      "text/plain": [
       "                                  1         2         3         4         5   \\\n",
       "2024-05-19 19:27:38.159533  0.652234 -0.085960 -0.534127  0.577694  0.464609   \n",
       "2024-05-20 19:27:38.159533 -0.231383 -1.818856 -0.199850 -1.254689 -0.667657   \n",
       "2024-05-21 19:27:38.159533 -1.017685 -0.172869 -1.219302  1.137245 -1.577333   \n",
       "2024-05-22 19:27:38.159533 -1.733398  0.559578 -1.462407  0.196274 -0.557904   \n",
       "2024-05-23 19:27:38.159533 -0.927460 -0.689421 -2.152585 -0.737419  0.247054   \n",
       "2024-05-24 19:27:38.159533 -0.957403  0.969390 -0.990500 -1.300363  0.578862   \n",
       "2024-05-25 19:27:38.159533  0.670924 -0.418547  0.163076  1.080577 -0.641624   \n",
       "2024-05-26 19:27:38.159533  0.064876  0.028737  1.261437  0.323473 -0.191871   \n",
       "2024-05-27 19:27:38.159533  0.237429 -0.674015 -0.172790  0.235774  1.951272   \n",
       "2024-05-28 19:27:38.159533 -1.310207  1.390110  1.217704  1.162156 -0.343613   \n",
       "\n",
       "                                  6         7         8         9         10  \n",
       "2024-05-19 19:27:38.159533 -1.090040  0.623026 -0.961550  0.530388  0.810917  \n",
       "2024-05-20 19:27:38.159533 -1.112941 -0.670090 -1.112732  0.788376  0.394177  \n",
       "2024-05-21 19:27:38.159533  0.169428  0.986715  0.990465  0.065674 -0.308867  \n",
       "2024-05-22 19:27:38.159533  0.562832 -0.336896 -0.169315 -0.300361 -0.741215  \n",
       "2024-05-23 19:27:38.159533  2.238998  0.536161 -1.544880  0.287498  0.579483  \n",
       "2024-05-24 19:27:38.159533  1.144584 -1.259898  1.042649  0.434956 -1.454113  \n",
       "2024-05-25 19:27:38.159533 -0.147601  0.833514 -0.063880 -0.043259 -1.119934  \n",
       "2024-05-26 19:27:38.159533  0.863455 -0.325506 -0.884237  0.691184 -0.943661  \n",
       "2024-05-27 19:27:38.159533  0.175825 -0.603151 -1.557423 -1.342769  1.070377  \n",
       "2024-05-28 19:27:38.159533 -0.299038 -1.341943  0.461880 -1.292135  0.238347  "
      ]
     },
     "execution_count": 64,
     "metadata": {},
     "output_type": "execute_result"
    }
   ],
   "source": [
    "dates=pd.date_range('today',periods=10)\n",
    "c=np.random.randn(10,10)\n",
    "d=pd.DataFrame(c,index=dates,columns=[1,2,3,4,5,6,7,8,9,10])\n",
    "d"
   ]
  },
  {
   "cell_type": "code",
   "execution_count": null,
   "id": "85042288-2d38-4c7a-81a5-d163be8dc0e8",
   "metadata": {},
   "outputs": [],
   "source": []
  },
  {
   "cell_type": "code",
   "execution_count": 73,
   "id": "6c564ce7-4ba8-4f5f-9da4-ae3b85162d64",
   "metadata": {},
   "outputs": [
    {
     "data": {
      "text/plain": [
       "DatetimeIndex(['2024-05-19 19:27:38.159533', '2024-05-20 19:27:38.159533',\n",
       "               '2024-05-21 19:27:38.159533', '2024-05-22 19:27:38.159533',\n",
       "               '2024-05-23 19:27:38.159533', '2024-05-24 19:27:38.159533',\n",
       "               '2024-05-25 19:27:38.159533', '2024-05-26 19:27:38.159533',\n",
       "               '2024-05-27 19:27:38.159533', '2024-05-28 19:27:38.159533'],\n",
       "              dtype='datetime64[ns]', freq='D')"
      ]
     },
     "execution_count": 73,
     "metadata": {},
     "output_type": "execute_result"
    }
   ],
   "source": [
    "d.head()\n",
    "d.tail()\n",
    "d.describe\n",
    "d.T\n",
    "d.columns\n",
    "d.index"
   ]
  },
  {
   "cell_type": "code",
   "execution_count": 80,
   "id": "387b62eb-f340-45cf-87cf-d3b03c744838",
   "metadata": {},
   "outputs": [
    {
     "data": {
      "text/plain": [
       "1   -0.455207\n",
       "dtype: float64"
      ]
     },
     "execution_count": 80,
     "metadata": {},
     "output_type": "execute_result"
    }
   ],
   "source": [
    "d[[1]].mean()"
   ]
  },
  {
   "cell_type": "code",
   "execution_count": 84,
   "id": "541e1487-895b-4b57-aa3d-8f25157219f1",
   "metadata": {},
   "outputs": [],
   "source": [
    "d[1]=4"
   ]
  },
  {
   "cell_type": "code",
   "execution_count": 85,
   "id": "29a5df77-fab1-4d69-9181-1540300be5ef",
   "metadata": {},
   "outputs": [
    {
     "data": {
      "text/html": [
       "<div>\n",
       "<style scoped>\n",
       "    .dataframe tbody tr th:only-of-type {\n",
       "        vertical-align: middle;\n",
       "    }\n",
       "\n",
       "    .dataframe tbody tr th {\n",
       "        vertical-align: top;\n",
       "    }\n",
       "\n",
       "    .dataframe thead th {\n",
       "        text-align: right;\n",
       "    }\n",
       "</style>\n",
       "<table border=\"1\" class=\"dataframe\">\n",
       "  <thead>\n",
       "    <tr style=\"text-align: right;\">\n",
       "      <th></th>\n",
       "      <th>1</th>\n",
       "      <th>2</th>\n",
       "      <th>3</th>\n",
       "      <th>4</th>\n",
       "      <th>5</th>\n",
       "      <th>6</th>\n",
       "      <th>7</th>\n",
       "      <th>8</th>\n",
       "      <th>9</th>\n",
       "      <th>10</th>\n",
       "    </tr>\n",
       "  </thead>\n",
       "  <tbody>\n",
       "    <tr>\n",
       "      <th>2024-05-19 19:27:38.159533</th>\n",
       "      <td>False</td>\n",
       "      <td>False</td>\n",
       "      <td>False</td>\n",
       "      <td>False</td>\n",
       "      <td>False</td>\n",
       "      <td>False</td>\n",
       "      <td>False</td>\n",
       "      <td>False</td>\n",
       "      <td>False</td>\n",
       "      <td>False</td>\n",
       "    </tr>\n",
       "    <tr>\n",
       "      <th>2024-05-20 19:27:38.159533</th>\n",
       "      <td>False</td>\n",
       "      <td>False</td>\n",
       "      <td>False</td>\n",
       "      <td>False</td>\n",
       "      <td>False</td>\n",
       "      <td>False</td>\n",
       "      <td>False</td>\n",
       "      <td>False</td>\n",
       "      <td>False</td>\n",
       "      <td>False</td>\n",
       "    </tr>\n",
       "    <tr>\n",
       "      <th>2024-05-21 19:27:38.159533</th>\n",
       "      <td>False</td>\n",
       "      <td>False</td>\n",
       "      <td>False</td>\n",
       "      <td>False</td>\n",
       "      <td>False</td>\n",
       "      <td>False</td>\n",
       "      <td>False</td>\n",
       "      <td>False</td>\n",
       "      <td>False</td>\n",
       "      <td>False</td>\n",
       "    </tr>\n",
       "    <tr>\n",
       "      <th>2024-05-22 19:27:38.159533</th>\n",
       "      <td>False</td>\n",
       "      <td>False</td>\n",
       "      <td>False</td>\n",
       "      <td>False</td>\n",
       "      <td>False</td>\n",
       "      <td>False</td>\n",
       "      <td>False</td>\n",
       "      <td>False</td>\n",
       "      <td>False</td>\n",
       "      <td>False</td>\n",
       "    </tr>\n",
       "    <tr>\n",
       "      <th>2024-05-23 19:27:38.159533</th>\n",
       "      <td>False</td>\n",
       "      <td>False</td>\n",
       "      <td>False</td>\n",
       "      <td>False</td>\n",
       "      <td>False</td>\n",
       "      <td>False</td>\n",
       "      <td>False</td>\n",
       "      <td>False</td>\n",
       "      <td>False</td>\n",
       "      <td>False</td>\n",
       "    </tr>\n",
       "    <tr>\n",
       "      <th>2024-05-24 19:27:38.159533</th>\n",
       "      <td>False</td>\n",
       "      <td>False</td>\n",
       "      <td>False</td>\n",
       "      <td>False</td>\n",
       "      <td>False</td>\n",
       "      <td>False</td>\n",
       "      <td>False</td>\n",
       "      <td>False</td>\n",
       "      <td>False</td>\n",
       "      <td>False</td>\n",
       "    </tr>\n",
       "    <tr>\n",
       "      <th>2024-05-25 19:27:38.159533</th>\n",
       "      <td>False</td>\n",
       "      <td>False</td>\n",
       "      <td>False</td>\n",
       "      <td>False</td>\n",
       "      <td>False</td>\n",
       "      <td>False</td>\n",
       "      <td>False</td>\n",
       "      <td>False</td>\n",
       "      <td>False</td>\n",
       "      <td>False</td>\n",
       "    </tr>\n",
       "    <tr>\n",
       "      <th>2024-05-26 19:27:38.159533</th>\n",
       "      <td>False</td>\n",
       "      <td>False</td>\n",
       "      <td>False</td>\n",
       "      <td>False</td>\n",
       "      <td>False</td>\n",
       "      <td>False</td>\n",
       "      <td>False</td>\n",
       "      <td>False</td>\n",
       "      <td>False</td>\n",
       "      <td>False</td>\n",
       "    </tr>\n",
       "    <tr>\n",
       "      <th>2024-05-27 19:27:38.159533</th>\n",
       "      <td>False</td>\n",
       "      <td>False</td>\n",
       "      <td>False</td>\n",
       "      <td>False</td>\n",
       "      <td>False</td>\n",
       "      <td>False</td>\n",
       "      <td>False</td>\n",
       "      <td>False</td>\n",
       "      <td>False</td>\n",
       "      <td>False</td>\n",
       "    </tr>\n",
       "    <tr>\n",
       "      <th>2024-05-28 19:27:38.159533</th>\n",
       "      <td>False</td>\n",
       "      <td>False</td>\n",
       "      <td>False</td>\n",
       "      <td>False</td>\n",
       "      <td>False</td>\n",
       "      <td>False</td>\n",
       "      <td>False</td>\n",
       "      <td>False</td>\n",
       "      <td>False</td>\n",
       "      <td>False</td>\n",
       "    </tr>\n",
       "  </tbody>\n",
       "</table>\n",
       "</div>"
      ],
      "text/plain": [
       "                               1      2      3      4      5      6      7   \\\n",
       "2024-05-19 19:27:38.159533  False  False  False  False  False  False  False   \n",
       "2024-05-20 19:27:38.159533  False  False  False  False  False  False  False   \n",
       "2024-05-21 19:27:38.159533  False  False  False  False  False  False  False   \n",
       "2024-05-22 19:27:38.159533  False  False  False  False  False  False  False   \n",
       "2024-05-23 19:27:38.159533  False  False  False  False  False  False  False   \n",
       "2024-05-24 19:27:38.159533  False  False  False  False  False  False  False   \n",
       "2024-05-25 19:27:38.159533  False  False  False  False  False  False  False   \n",
       "2024-05-26 19:27:38.159533  False  False  False  False  False  False  False   \n",
       "2024-05-27 19:27:38.159533  False  False  False  False  False  False  False   \n",
       "2024-05-28 19:27:38.159533  False  False  False  False  False  False  False   \n",
       "\n",
       "                               8      9      10  \n",
       "2024-05-19 19:27:38.159533  False  False  False  \n",
       "2024-05-20 19:27:38.159533  False  False  False  \n",
       "2024-05-21 19:27:38.159533  False  False  False  \n",
       "2024-05-22 19:27:38.159533  False  False  False  \n",
       "2024-05-23 19:27:38.159533  False  False  False  \n",
       "2024-05-24 19:27:38.159533  False  False  False  \n",
       "2024-05-25 19:27:38.159533  False  False  False  \n",
       "2024-05-26 19:27:38.159533  False  False  False  \n",
       "2024-05-27 19:27:38.159533  False  False  False  \n",
       "2024-05-28 19:27:38.159533  False  False  False  "
      ]
     },
     "execution_count": 85,
     "metadata": {},
     "output_type": "execute_result"
    }
   ],
   "source": [
    "d.isnull()"
   ]
  },
  {
   "cell_type": "code",
   "execution_count": 96,
   "id": "76e23df9-db96-43f2-b7e3-e7e67dc2f32c",
   "metadata": {},
   "outputs": [
    {
     "data": {
      "text/html": [
       "<div>\n",
       "<style scoped>\n",
       "    .dataframe tbody tr th:only-of-type {\n",
       "        vertical-align: middle;\n",
       "    }\n",
       "\n",
       "    .dataframe tbody tr th {\n",
       "        vertical-align: top;\n",
       "    }\n",
       "\n",
       "    .dataframe thead th {\n",
       "        text-align: right;\n",
       "    }\n",
       "</style>\n",
       "<table border=\"1\" class=\"dataframe\">\n",
       "  <thead>\n",
       "    <tr style=\"text-align: right;\">\n",
       "      <th></th>\n",
       "      <th>Unnamed: 0</th>\n",
       "      <th>animal</th>\n",
       "      <th>age</th>\n",
       "      <th>visits</th>\n",
       "      <th>priority</th>\n",
       "    </tr>\n",
       "  </thead>\n",
       "  <tbody>\n",
       "    <tr>\n",
       "      <th>0</th>\n",
       "      <td>a</td>\n",
       "      <td>cat</td>\n",
       "      <td>2.5</td>\n",
       "      <td>1</td>\n",
       "      <td>yes</td>\n",
       "    </tr>\n",
       "    <tr>\n",
       "      <th>1</th>\n",
       "      <td>b</td>\n",
       "      <td>cat</td>\n",
       "      <td>3.0</td>\n",
       "      <td>3</td>\n",
       "      <td>yes</td>\n",
       "    </tr>\n",
       "    <tr>\n",
       "      <th>2</th>\n",
       "      <td>c</td>\n",
       "      <td>snake</td>\n",
       "      <td>NaN</td>\n",
       "      <td>2</td>\n",
       "      <td>no</td>\n",
       "    </tr>\n",
       "    <tr>\n",
       "      <th>3</th>\n",
       "      <td>d</td>\n",
       "      <td>dog</td>\n",
       "      <td>5.0</td>\n",
       "      <td>3</td>\n",
       "      <td>yes</td>\n",
       "    </tr>\n",
       "    <tr>\n",
       "      <th>4</th>\n",
       "      <td>e</td>\n",
       "      <td>dog</td>\n",
       "      <td>2.0</td>\n",
       "      <td>2</td>\n",
       "      <td>no</td>\n",
       "    </tr>\n",
       "  </tbody>\n",
       "</table>\n",
       "</div>"
      ],
      "text/plain": [
       "  Unnamed: 0 animal  age  visits priority\n",
       "0          a    cat  2.5       1      yes\n",
       "1          b    cat  3.0       3      yes\n",
       "2          c  snake  NaN       2       no\n",
       "3          d    dog  5.0       3      yes\n",
       "4          e    dog  2.0       2       no"
      ]
     },
     "execution_count": 96,
     "metadata": {},
     "output_type": "execute_result"
    }
   ],
   "source": [
    "d.to_csv('animal_csv')\n",
    "df_animal=pd.read_csv('animal_csv')\n",
    "df_animal.head() #require head(index)\n",
    "\n",
    "df_animal2=pd.read_excel('animal.xlsx','sheet1',index_col=None,na_values=['NA'])\n",
    "df_animal2\n"
   ]
  },
  {
   "cell_type": "markdown",
   "id": "aab5653a-9248-4761-a4ff-324d3a27b110",
   "metadata": {},
   "source": []
  },
  {
   "cell_type": "code",
   "execution_count": null,
   "id": "319b5a68-56c4-468d-bb29-278dad727765",
   "metadata": {},
   "outputs": [],
   "source": []
  }
 ],
 "metadata": {
  "kernelspec": {
   "display_name": "Python 3 (ipykernel)",
   "language": "python",
   "name": "python3"
  },
  "language_info": {
   "codemirror_mode": {
    "name": "ipython",
    "version": 3
   },
   "file_extension": ".py",
   "mimetype": "text/x-python",
   "name": "python",
   "nbconvert_exporter": "python",
   "pygments_lexer": "ipython3",
   "version": "3.12.7"
  }
 },
 "nbformat": 4,
 "nbformat_minor": 5
}
