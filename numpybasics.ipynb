{
 "cells": [
  {
   "cell_type": "code",
   "execution_count": 1,
   "id": "a41be03f-37f9-4ad2-b47f-ba6e4826dcc0",
   "metadata": {},
   "outputs": [],
   "source": [
    "#numpy vs python"
   ]
  },
  {
   "cell_type": "code",
   "execution_count": 12,
   "id": "0d0afead-b869-4195-a5b7-752b087a0cee",
   "metadata": {},
   "outputs": [
    {
     "name": "stdout",
     "output_type": "stream",
     "text": [
      "size of lis:8000056in bytes\n",
      "size of arr:4000000 in bytes\n",
      "69.19574737548828\n",
      "2.7666091918945312\n"
     ]
    }
   ],
   "source": [
    "import numpy as np\n",
    "lis=list(range(1000000))\n",
    "arr=np.arange(1000000)\n",
    "\n",
    "import sys\n",
    "# size of array in python\n",
    "print(f\"size of lis:{sys.getsizeof(lis) }in bytes\")\n",
    "print(f\"size of arr:{arr.nbytes} in bytes\")\n",
    "import time\n",
    "\n",
    "#time taken by python for sum\n",
    "s_time=time.time()\n",
    "sumoflis=sum(lis)\n",
    "e_time=time.time()\n",
    "sumtimelis=(e_time-s_time)*1000\n",
    "print(sumtimelis)\n",
    "#time taken by numpy for sum\n",
    "s_time=time.time()\n",
    "sumofarr=np.sum(arr)\n",
    "e_time=time.time()\n",
    "sumtimearr=(e_time-s_time)*1000\n",
    "print(sumtimearr)\n",
    "\n",
    "         "
   ]
  },
  {
   "cell_type": "code",
   "execution_count": 14,
   "id": "516406b1-5899-4680-91fd-b8f53b764b2f",
   "metadata": {},
   "outputs": [
    {
     "data": {
      "text/plain": [
       "3"
      ]
     },
     "execution_count": 14,
     "metadata": {},
     "output_type": "execute_result"
    }
   ],
   "source": [
    "narr=np.array([1,2,3,4,5])\n",
    "narr\n",
    "narr[2]"
   ]
  },
  {
   "cell_type": "code",
   "execution_count": 16,
   "id": "e519df3d-2099-416f-ae92-3a4e056bc9b7",
   "metadata": {},
   "outputs": [
    {
     "data": {
      "text/plain": [
       "array([0, 1, 2, 3, 4, 5, 6, 7, 8, 9])"
      ]
     },
     "execution_count": 16,
     "metadata": {},
     "output_type": "execute_result"
    }
   ],
   "source": [
    "nar1=np.arange(10)\n",
    "narr1"
   ]
  },
  {
   "cell_type": "code",
   "execution_count": 18,
   "id": "2503298f-c552-4003-90c9-9c345f2111f4",
   "metadata": {},
   "outputs": [
    {
     "data": {
      "text/plain": [
       "array([ 1,  2,  3,  4,  5,  6,  7,  8,  9, 10, 11, 12, 13, 14, 15, 16, 17,\n",
       "       18, 19, 20, 21, 22, 23, 24, 25, 26, 27, 28, 29, 30, 31, 32, 33, 34,\n",
       "       35, 36, 37, 38, 39, 40, 41, 42, 43, 44, 45, 46, 47, 48, 49, 50, 51,\n",
       "       52, 53, 54, 55, 56, 57, 58, 59, 60, 61, 62, 63, 64, 65, 66, 67, 68,\n",
       "       69, 70, 71, 72, 73, 74, 75, 76, 77, 78, 79, 80, 81, 82, 83, 84, 85,\n",
       "       86, 87, 88, 89, 90, 91, 92, 93, 94, 95, 96, 97, 98])"
      ]
     },
     "execution_count": 18,
     "metadata": {},
     "output_type": "execute_result"
    }
   ],
   "source": [
    "narr=np.arange(1,99)\n",
    "narrr"
   ]
  },
  {
   "cell_type": "code",
   "execution_count": 23,
   "id": "d8de3af1-cd0d-428b-b411-e3d4971a953a",
   "metadata": {},
   "outputs": [
    {
     "data": {
      "text/plain": [
       "array([1, 2, 3])"
      ]
     },
     "execution_count": 23,
     "metadata": {},
     "output_type": "execute_result"
    }
   ],
   "source": [
    "narrr=np.arange(1,4,1)\n",
    "narrr"
   ]
  },
  {
   "cell_type": "code",
   "execution_count": 26,
   "id": "fabc5cf2-e21e-4327-bdd1-0d7b817e664b",
   "metadata": {},
   "outputs": [
    {
     "data": {
      "text/plain": [
       "array([[[[0.],\n",
       "         [0.],\n",
       "         [0.],\n",
       "         [0.]],\n",
       "\n",
       "        [[0.],\n",
       "         [0.],\n",
       "         [0.],\n",
       "         [0.]],\n",
       "\n",
       "        [[0.],\n",
       "         [0.],\n",
       "         [0.],\n",
       "         [0.]]],\n",
       "\n",
       "\n",
       "       [[[0.],\n",
       "         [0.],\n",
       "         [0.],\n",
       "         [0.]],\n",
       "\n",
       "        [[0.],\n",
       "         [0.],\n",
       "         [0.],\n",
       "         [0.]],\n",
       "\n",
       "        [[0.],\n",
       "         [0.],\n",
       "         [0.],\n",
       "         [0.]]]])"
      ]
     },
     "execution_count": 26,
     "metadata": {},
     "output_type": "execute_result"
    }
   ],
   "source": [
    "a=np.zeros([2,3,4,1]) # we can not only zeroes and also ones ,twoes,.... and also number (arange)\n",
    "a"
   ]
  },
  {
   "cell_type": "code",
   "execution_count": 28,
   "id": "8ad30b8a-05ca-40bf-ae83-bd320da53d3c",
   "metadata": {},
   "outputs": [
    {
     "data": {
      "text/plain": [
       "array([     0,      1,      2, ..., 999997, 999998, 999999])"
      ]
     },
     "execution_count": 28,
     "metadata": {},
     "output_type": "execute_result"
    }
   ],
   "source": [
    "# memory usagre in numpy\n",
    "arr_int32=np.array([122233,122334],dtype=np.int32) # and also different datatypes like fklaot ,long and more size also like 64,124\n",
    "\n",
    "arr"
   ]
  },
  {
   "cell_type": "code",
   "execution_count": 34,
   "id": "bad3c163-84a6-4ae5-94ab-e6569e501a68",
   "metadata": {},
   "outputs": [
    {
     "data": {
      "text/plain": [
       "dtype('float64')"
      ]
     },
     "execution_count": 34,
     "metadata": {},
     "output_type": "execute_result"
    }
   ],
   "source": [
    "arr_float=np.arange(1000,dtype=np.float64)\n",
    "\n",
    "arr_float.dtype\n"
   ]
  },
  {
   "cell_type": "code",
   "execution_count": 35,
   "id": "54d94693-b66f-4788-aef2-b56add7ae666",
   "metadata": {},
   "outputs": [
    {
     "data": {
      "text/plain": [
       "array([[5, 5],\n",
       "       [5, 5]])"
      ]
     },
     "execution_count": 35,
     "metadata": {},
     "output_type": "execute_result"
    }
   ],
   "source": [
    "afull_6=np.full([2,2],5) #it will fill with 5in 2x2 matrix\n",
    "afull_6"
   ]
  },
  {
   "cell_type": "code",
   "execution_count": 37,
   "id": "806709f6-07ee-4e5d-b2db-b42a05b78a6e",
   "metadata": {},
   "outputs": [
    {
     "data": {
      "text/plain": [
       "array([2, 4, 6])"
      ]
     },
     "execution_count": 37,
     "metadata": {},
     "output_type": "execute_result"
    }
   ],
   "source": [
    "#array operations in numpy\n",
    "arr=np.add([1,2,3],[1,2,3])\n",
    "#not only addition,multiply,dividion,substract and mod and power also\n",
    "arr"
   ]
  },
  {
   "cell_type": "code",
   "execution_count": 39,
   "id": "8ea7465b-17d9-44fc-ab86-8ffbf1b4ed4c",
   "metadata": {},
   "outputs": [
    {
     "name": "stdout",
     "output_type": "stream",
     "text": [
      "[ True  True  True]\n"
     ]
    }
   ],
   "source": [
    "#and also logical operators like\n",
    "a=np.array([1,2,3])\n",
    "a1=np.array([1,2,3])\n",
    "print(a==a1)\n",
    "#not only equals,>,<,!=,<=,>="
   ]
  },
  {
   "cell_type": "code",
   "execution_count": 41,
   "id": "cf7e8345-aa0e-41df-8512-210aa447f288",
   "metadata": {},
   "outputs": [
    {
     "data": {
      "text/plain": [
       "array([2, 3])"
      ]
     },
     "execution_count": 41,
     "metadata": {},
     "output_type": "execute_result"
    }
   ],
   "source": [
    "#slicing by indexing\n",
    "a[1]\n",
    "a[1:3]"
   ]
  },
  {
   "cell_type": "code",
   "execution_count": null,
   "id": "14f10657-4711-47d7-b983-ba5187055f53",
   "metadata": {},
   "outputs": [],
   "source": [
    "# slicing in 2D array by index\n",
    "#two 2D array\n",
    "a2=np.array([[1,2,3],\n",
    "            [9,3,4],\n",
    "            [2,3,5]])\n",
    "a2[0:1,1:2]\n",
    "a2[1:2,2:3]"
   ]
  },
  {
   "cell_type": "code",
   "execution_count": 63,
   "id": "0eb7c185-1324-487f-87f3-be600f00ba1f",
   "metadata": {},
   "outputs": [
    {
     "name": "stdout",
     "output_type": "stream",
     "text": [
      "[[False False  True]\n",
      " [ True  True  True]\n",
      " [False  True  True]]\n",
      "[3 9 3 4 3 5]\n"
     ]
    },
    {
     "data": {
      "text/plain": [
       "array([3, 9, 3, 4, 3, 5])"
      ]
     },
     "execution_count": 63,
     "metadata": {},
     "output_type": "execute_result"
    }
   ],
   "source": [
    "mask=a2>2 #printing slicing elements in 2d arry\n",
    "#firt it print true are false elements\n",
    "print(mask)\n",
    "#next we print true like below\n",
    "\n",
    "s=a2[mask]\n",
    "print(s)\n",
    "# another mw\\ethod of above code is below\n",
    "s=a2[a2>2]\n",
    "s\n",
    "#we can apply all 1d,2d,3d,4d......arrays"
   ]
  },
  {
   "cell_type": "code",
   "execution_count": 66,
   "id": "4adad868-498f-4a5c-9de1-ec94ade55130",
   "metadata": {},
   "outputs": [
    {
     "data": {
      "text/plain": [
       "array([[1, 2, 4],\n",
       "       [2, 3, 5],\n",
       "       [3, 4, 6]], dtype=int64)"
      ]
     },
     "execution_count": 66,
     "metadata": {},
     "output_type": "execute_result"
    }
   ],
   "source": [
    "#another oparations in array\n",
    "ar=np.array([[1,2,3],[2,3,4],[4,5,6]],dtype=np.int64)\n",
    "ar.T"
   ]
  },
  {
   "cell_type": "code",
   "execution_count": 81,
   "id": "108d8953-bb78-4619-94fc-ededa0e88e0e",
   "metadata": {},
   "outputs": [
    {
     "data": {
      "text/plain": [
       "array([[1, 2, 4],\n",
       "       [2, 3, 5],\n",
       "       [3, 4, 6]], dtype=int64)"
      ]
     },
     "execution_count": 81,
     "metadata": {},
     "output_type": "execute_result"
    }
   ],
   "source": [
    "#also swap axes\n",
    "#they are teo way of swaping\n",
    "sar=ar.swapaxes(1,0)\n",
    "sar=np.swapaxes(ar,1,0)\n",
    "sar"
   ]
  },
  {
   "cell_type": "code",
   "execution_count": 76,
   "id": "34f927b4-6e3b-485c-9302-936c022520df",
   "metadata": {},
   "outputs": [
    {
     "data": {
      "text/plain": [
       "array([[[ 1,  2,  3],\n",
       "        [ 2,  3,  4],\n",
       "        [ 3,  4,  5]],\n",
       "\n",
       "       [[98,  7,  6],\n",
       "        [ 7,  6,  5],\n",
       "        [ 7,  5,  5]]])"
      ]
     },
     "execution_count": 76,
     "metadata": {},
     "output_type": "execute_result"
    }
   ],
   "source": [
    "ar3=np.array([[[1,2,3]\n",
    "               ,[2,3,4],\n",
    "               [3,4,5]]\n",
    "              ,[[98,7,7],\n",
    "                [7,6,5],\n",
    "                [6,5,5]]])\n",
    "sae3=np.swapaxes(ar3,1,2)\n",
    "sae3"
   ]
  },
  {
   "cell_type": "code",
   "execution_count": null,
   "id": "b0e3416b-c40b-401b-b6c4-38482a7bb278",
   "metadata": {},
   "outputs": [],
   "source": []
  }
 ],
 "metadata": {
  "kernelspec": {
   "display_name": "Python 3 (ipykernel)",
   "language": "python",
   "name": "python3"
  },
  "language_info": {
   "codemirror_mode": {
    "name": "ipython",
    "version": 3
   },
   "file_extension": ".py",
   "mimetype": "text/x-python",
   "name": "python",
   "nbconvert_exporter": "python",
   "pygments_lexer": "ipython3",
   "version": "3.12.7"
  }
 },
 "nbformat": 4,
 "nbformat_minor": 5
}
